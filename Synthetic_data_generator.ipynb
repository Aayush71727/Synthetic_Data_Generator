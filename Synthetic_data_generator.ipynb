{
  "nbformat": 4,
  "nbformat_minor": 0,
  "metadata": {
    "colab": {
      "name": "Synthetic_data_generator.ipynb",
      "provenance": [],
      "collapsed_sections": [],
      "authorship_tag": "ABX9TyNC9TGQS9V1buMWk/htp4oN"
    },
    "kernelspec": {
      "display_name": "Python 3",
      "name": "python3"
    },
    "language_info": {
      "name": "python"
    }
  },
  "cells": [
    {
      "cell_type": "code",
      "metadata": {
        "id": "XF-YLUgFPSdO"
      },
      "source": [
        "import os\n",
        "import sys\n",
        "import json\n",
        "import numpy as np\n",
        "import skimage.draw\n",
        "import skimage.io\n",
        "import shutil\n",
        "import cv2\n",
        "from google.colab.patches import cv2_imshow\n",
        "import random\n",
        "import json\n",
        "import imutils"
      ],
      "execution_count": 2,
      "outputs": []
    },
    {
      "cell_type": "code",
      "metadata": {
        "id": "Qe1OAQ4wPSmb"
      },
      "source": [
        "class LayoutDataset():\n",
        "\n",
        "  def load_layout(self, dataset_dir, subset,passed_directory_name,page_name):\n",
        "        \"\"\"Load a subset of the Layout dataset.\n",
        "        dataset_dir: Root directory of the dataset.\n",
        "        subset: Subset to load: train or val\n",
        "        \"\"\"\n",
        "        # Add classes. We have 4 classes to add.\n",
        "        #text','Equation','Table','Image'\n",
        "        #self.add_class(\"layout\", 1, \"Text\")\n",
        "        #self.add_class(\"layout\", 2, \"Math\")\n",
        "        #self.add_class(\"layout\", 3, \"Table\")\n",
        "        #self.add_class(\"layout\", 4, \"Image\")\n",
        "\n",
        "        # Train or validation dataset?\n",
        "        image_name_list = []\n",
        "        #label_coord_dict = {}\n",
        "        page_details_dict = {}\n",
        "        table_coord_dict = {}\n",
        "        image_coord_dict = {}\n",
        "        math_coord_dict = {}\n",
        "        text_coord_dict = {}\n",
        "        label_annot_dict = {}\n",
        "        #print(subset)\n",
        "        assert subset in [\"train\", \"val\"]\n",
        "        dataset_dir = os.path.join(dataset_dir, subset)\n",
        "        bbxs =[]\n",
        "        list(map(bbxs.extend, [[bbx for  bbx in fls if  bbx.endswith(\".bbx\")  ]  for _,_,fls in os.walk(dataset_dir)  ]))\n",
        "        #print(len(bbxs))\n",
        "        #list(map(bounding_box_list.extend, [[bbx for  bbx in fls if  bbx.endswith(\".bbx\")  ]  for _,_,fls in os.walk(dataset_dir)  ]))\n",
        "        for bb in bbxs:\n",
        "            dir_name = bb.split('.')[0]\n",
        "            #print(dir_name)\n",
        "            if dir_name != passed_directory_name:\n",
        "              continue\n",
        "            annotations = json.load(open(os.path.join(dataset_dir, bb)))\n",
        "            #val = annotations.values() # don't need the dict keys\n",
        "            annotations_vals = list(annotations.values())\n",
        "            imglst = list(annotations_vals[2].keys())\n",
        "            #print(len(imglst))\n",
        "            \n",
        "            for i in range(len(imglst)):\n",
        "            \n",
        "                image_name = (list(imglst)[i])\n",
        "                coords_yolo = []\n",
        "                #print(\"************\")\n",
        "                #print(i)\n",
        "                #print(image_name)\n",
        "                \n",
        "                annt_pp = annotations['images'][image_name]['annotations']#Annotation Per page\n",
        "                #print(type(annt_pp))\n",
        "                #print(\"annt_pp :\",annt_pp)\n",
        "                coords = [list(annt_pp[r]['bbox'].values() ) for r in range(len(annt_pp)) if 1 & 0 not in annt_pp[r]['bbox'].values() ]#co-ordinates for layout\n",
        "                #print(\"coords :\",coords)\n",
        "                #print(\"coords = \",len(coords))\n",
        "                #print(annt_pp)\n",
        "                label = [(annt_pp[r][\"label\"]) for r in range(len(annt_pp)) if 1 & 0 not in annt_pp[r]['bbox'].values()]#label for layout\n",
        "                #print(\"dir_name :\",dir_name)\n",
        "                #print(image_name,\"=\",label)\n",
        "                #print(\"label :\",label)\n",
        "\n",
        "                #label_dict={'Text':0,'Math':1,'Table':2,'Image':3}\n",
        "                temp_list = []\n",
        "                for i in range(len(label)):\n",
        "                  if label[i]=='Image':\n",
        "                    image_name_list.append(image_name)\n",
        "                    #print(dir_name+\"/\"+image_name+\"#\"+'Image',\"=\",coords[i])\n",
        "                    image_coord_dict[dir_name+\"/\"+image_name+\"_\"+'Image'+\"_\"+str(i)] = coords[i]\n",
        "                    label_annot_dict[dir_name+\"/\"+image_name+\"_\"+'Image'+\"_\"+str(i)] = annt_pp\n",
        "                    temp_list.append(dir_name+\"/\"+image_name+\"_\"+'Image'+\"_\"+str(i))\n",
        "                  elif label[i]=='Table':\n",
        "                    table_coord_dict[dir_name+\"/\"+image_name+\"_\"+'Table'+\"_\"+str(i)] = coords[i]\n",
        "                    label_annot_dict[dir_name+\"/\"+image_name+\"_\"+'Table'+\"_\"+str(i)] = annt_pp\n",
        "                    temp_list.append(dir_name+\"/\"+image_name+\"_\"+'Table'+\"_\"+str(i))\n",
        "                  elif label[i]=='Math':\n",
        "                    math_coord_dict[dir_name+\"/\"+image_name+\"_\"+'Math'+\"_\"+str(i)] = coords[i]\n",
        "                    label_annot_dict[dir_name+\"/\"+image_name+\"_\"+'Math'+\"_\"+str(i)] = annt_pp\n",
        "                    temp_list.append(dir_name+\"/\"+image_name+\"_\"+'Math'+\"_\"+str(i))\n",
        "                  elif label[i]=='Text':\n",
        "                    text_coord_dict[dir_name+\"/\"+image_name+\"_\"+'Text'+\"_\"+str(i)] = coords[i]\n",
        "                    label_annot_dict[dir_name+\"/\"+image_name+\"_\"+'Text'+\"_\"+str(i)] = annt_pp\n",
        "                    temp_list.append(dir_name+\"/\"+image_name+\"_\"+'Text'+\"_\"+str(i))\n",
        "\n",
        "                  if len(temp_list) > 0:\n",
        "                       page_details_dict[image_name] = temp_list\n",
        "                #label_ids = [label_dict[a] for a in label]\n",
        "                #print(image_name,\":\",len(label))\n",
        "                #filename = dir_name+\"_\"+image_name.split('.')[0]\n",
        "                filename = image_name.split('.')[0]\n",
        "\n",
        "                #image_list.append(filename)\n",
        "\n",
        "                #for i in range(len(coords)):\n",
        "                 # coords[i].append(label_ids[i])\n",
        "                  \n",
        "                #add_to_txt(filename+'.txt', coords,subset)\n",
        "                #print(coords[0])\n",
        "                #print(label_ids[0])\n",
        "                \n",
        "                #print(len(label)==len(coords))#cross check  no. of labels w.r.t coords\n",
        "                \n",
        "                image_path = os.path.join(dataset_dir,dir_name, image_name)\n",
        "                #append_new_line('train.txt',image_path)\n",
        "                image = skimage.io.imread(image_path)\n",
        "                height, width = image.shape[:2]\n",
        "                #print(\"height\",height,\"width\",width)\n",
        "                \n",
        "\n",
        "                #add_to_txt(filename+'.txt', coords_yolo,subset)\n",
        "                #print(\"coords_yolo:\",coords_yolo)\n",
        "                #print(\"coords_yolo = \",len(coords_yolo))\n",
        "                #print(\"height:\",height,\"width:\",width)\n",
        "                #print(i)\n",
        "                #print(\"############\")\n",
        "        return table_coord_dict,image_coord_dict,math_coord_dict,text_coord_dict,label_annot_dict,image_name_list,page_details_dict\n",
        "                #break"
      ],
      "execution_count": 3,
      "outputs": []
    },
    {
      "cell_type": "code",
      "metadata": {
        "id": "qf2yg3EyPSw1"
      },
      "source": [
        "dataset_path = 'Dataset'\n",
        "dataset_train = LayoutDataset()"
      ],
      "execution_count": 4,
      "outputs": []
    },
    {
      "cell_type": "code",
      "metadata": {
        "id": "1CVMhLixPS6A"
      },
      "source": [
        "# LWK in the name of dictonaries does not signifies anything....   \n",
        "table_coordinates_LWK,image_coordinates_LWK,math_coordinates_LWK,text_coordinates_LWK,label_annotation_LWK,image_list,page_details_LWK=dataset_train.load_layout(dataset_path, \"train\",'GON2','name')"
      ],
      "execution_count": 5,
      "outputs": []
    },
    {
      "cell_type": "code",
      "metadata": {
        "id": "nIY5WJjwPTDc"
      },
      "source": [
        "import random"
      ],
      "execution_count": 6,
      "outputs": []
    },
    {
      "cell_type": "code",
      "metadata": {
        "id": "u1hpk08KPTNF"
      },
      "source": [
        "bb_coordinates = {}"
      ],
      "execution_count": 7,
      "outputs": []
    },
    {
      "cell_type": "code",
      "metadata": {
        "id": "duNO3Mb5PTWu"
      },
      "source": [
        "def extract_roi(coord_list,page_image,img_name):\n",
        "  \n",
        "  img_name_modified = img_name.split('/')[0]+'_'+img_name.split('/')[1]\n",
        "  print(img_name_modified)\n",
        "\n",
        "  #page_name = random.choice(image_list)\n",
        "  #start_cell = box_dict[num1]\n",
        "  #end_cell = box_dict[num2]\n",
        "  dh, dw, _ = page_image.shape\n",
        "  x1 = int(coord_list[0]*dw)\n",
        "  y1 = int(coord_list[2]*dh)\n",
        "  x2 = int(coord_list[1]*dw)#end_cell[0]+end_cell[3]\n",
        "  y2 = int(coord_list[3]*dh)#end_cell[1]+end_cell[2]\n",
        "\n",
        "  # print(x,\" : \",l)\n",
        "  print(x1,y1,x2,y2)\n",
        "  bb_coordinates[img_name] = [x1,y1,x2,y2]\n",
        "  #print(end_y)\n",
        "  #table_image = imutils.resize(table_image,width = 2964) #previously it was 2564\n",
        "\n",
        "  ROI = page_image[y1:y2, x1:x2]    \n",
        "  # draw the bounding box on the image\n",
        "  cv2.rectangle(page_image, (x1, y1), (x2, y2), (255,255,255), 2)\n",
        "  cv2.imwrite(img_name_modified+'_extracted.png', ROI)"
      ],
      "execution_count": 8,
      "outputs": []
    },
    {
      "cell_type": "code",
      "metadata": {
        "colab": {
          "base_uri": "https://localhost:8080/"
        },
        "id": "IQ-xLY6OPThA",
        "outputId": "9a4792c8-46f2-4d42-e5c4-56b0a9f77845"
      },
      "source": [
        "bb_coordinates"
      ],
      "execution_count": 9,
      "outputs": [
        {
          "output_type": "execute_result",
          "data": {
            "text/plain": [
              "{}"
            ]
          },
          "metadata": {
            "tags": []
          },
          "execution_count": 9
        }
      ]
    },
    {
      "cell_type": "code",
      "metadata": {
        "id": "QV3Iu-P3PTqo"
      },
      "source": [
        "import copy"
      ],
      "execution_count": 10,
      "outputs": []
    },
    {
      "cell_type": "code",
      "metadata": {
        "id": "7tgWbDehPTzp"
      },
      "source": [
        "bbx_dict ={\"mask\": '',\n",
        "           \"mask_name\": \"\",\n",
        "           \"images\":{\n",
        "               \n",
        "           } \n",
        "          }\n",
        "page_dict = {}"
      ],
      "execution_count": 11,
      "outputs": []
    },
    {
      "cell_type": "code",
      "metadata": {
        "id": "yh8CuzkgPT9v"
      },
      "source": [
        "# This function creates a bbx file for the newly generated page\n",
        "def create_bbx(img_name,large_image,annot_list,small_image,img_for_bb):\n",
        "\n",
        "      #print(annot_list)\n",
        "      page_name = img_name\n",
        "      dh,dw,_ = large_image.shape\n",
        "\n",
        "      annot_list_copy = annot_list#copy.deepcopy(label_annotation_LWK[img_for_bb])\n",
        "      #print(dh,dw)\n",
        "      print(\"create_bbx = \",img_name,\" \",\"img_for_bb = \",img_for_bb)\n",
        "      #print(bb_coordinates[small_image])\n",
        "      page_dict[page_name] = {\n",
        "            \"attribution\": \"\",\n",
        "            \"license\": \"\",\n",
        "            \"license_url\": \"\",\n",
        "            }\n",
        "\n",
        "      for i in range(len(annot_list_copy)):\n",
        "        if annot_list_copy[i]['label']=='Image':\n",
        "          if img_for_bb in image_coordinates_LWK:\n",
        "            print(\"here\")\n",
        "            print(annot_list_copy[i]['bbox'])\n",
        "            print('i = ',i)\n",
        "            if annot_list_copy[i]['bbox']['xmin'] == image_coordinates_LWK[img_for_bb][0] and annot_list_copy[i]['bbox']['xmax'] == image_coordinates_LWK[img_for_bb][1] and annot_list_copy[i]['bbox']['ymin'] == image_coordinates_LWK[img_for_bb][2] and annot_list_copy[i]['bbox']['ymax'] == image_coordinates_LWK[img_for_bb][3]:\n",
        "              annot_list_copy[i]['label'] = small_image.split('_')[2]\n",
        "              annot_list_copy[i]['bbox']['xmin'] = bb_coordinates[img_for_bb][0]/dw\n",
        "              annot_list_copy[i]['bbox']['ymin'] = bb_coordinates[img_for_bb][1]/dh\n",
        "              annot_list_copy[i]['bbox']['xmax'] = bb_coordinates[img_for_bb][2]/dw\n",
        "              annot_list_copy[i]['bbox']['ymax'] = bb_coordinates[img_for_bb][3]/dh\n",
        "              print(\"**************\")\n",
        "              print(img_name)\n",
        "              print(\"img_for_bb = \",img_for_bb,\" \",\"small_img = \",small_image)\n",
        "              print(\"xmin : \",bb_coordinates[img_for_bb][0]/dw , \"xmax : \",bb_coordinates[img_for_bb][2]/dw,\"ymin : \",bb_coordinates[img_for_bb][1]/dh,\"ymax : \",bb_coordinates[img_for_bb][3]/dh)\n",
        "              print(\"updated label = \",small_image.split('_')[2])\n",
        "              print(\"##############\")\n",
        "        elif annot_list_copy[i]['label']=='Table':\n",
        "          if img_for_bb in table_coordinates_LWK:\n",
        "            print(annot_list_copy[i]['bbox'])\n",
        "            print('i = ',i)\n",
        "            if annot_list_copy[i]['bbox']['xmin'] == table_coordinates_LWK[img_for_bb][0] and annot_list_copy[i]['bbox']['xmax'] == table_coordinates_LWK[img_for_bb][1] and annot_list_copy[i]['bbox']['ymin'] == table_coordinates_LWK[img_for_bb][2] and annot_list_copy[i]['bbox']['ymax'] == table_coordinates_LWK[img_for_bb][3]:\n",
        "              annot_list_copy[i]['label'] = small_image.split('_')[2]\n",
        "              print(\"%%%%%%%\")\n",
        "              print(\"hello\")\n",
        "              annot_list_copy[i]['bbox']['xmin'] = bb_coordinates[img_for_bb][0]/dw\n",
        "              annot_list_copy[i]['bbox']['ymin'] = bb_coordinates[img_for_bb][1]/dh\n",
        "              annot_list_copy[i]['bbox']['xmax'] = bb_coordinates[img_for_bb][2]/dw\n",
        "              annot_list_copy[i]['bbox']['ymax'] = bb_coordinates[img_for_bb][3]/dh\n",
        "              print(\"xmin : \",bb_coordinates[img_for_bb][0]/dw , \"xmax : \",bb_coordinates[img_for_bb][2]/dw,\"ymin : \",bb_coordinates[img_for_bb][1]/dh,\"ymax : \",bb_coordinates[img_for_bb][3]/dh)\n",
        "              print(\"updated label = \",small_image.split('_')[2])\n",
        "              print(\"^^^^^^^^\")\n",
        "        elif annot_list_copy[i]['label']=='Math':\n",
        "          if img_for_bb in math_coordinates_LWK:\n",
        "            print(annot_list_copy[i]['bbox'])\n",
        "            print('i = ',i)\n",
        "            if annot_list_copy[i]['bbox']['xmin'] == math_coordinates_LWK[img_for_bb][0] and annot_list_copy[i]['bbox']['xmax'] == math_coordinates_LWK[img_for_bb][1] and annot_list_copy[i]['bbox']['ymin'] == math_coordinates_LWK[img_for_bb][2] and annot_list_copy[i]['bbox']['ymax'] == math_coordinates_LWK[img_for_bb][3]:\n",
        "              annot_list_copy[i]['label'] = small_image.split('_')[2]\n",
        "              print(\"%%%%%%%\")\n",
        "              print(\"Mathematics\")\n",
        "              annot_list_copy[i]['bbox']['xmin'] = bb_coordinates[img_for_bb][0]/dw\n",
        "              annot_list_copy[i]['bbox']['ymin'] = bb_coordinates[img_for_bb][1]/dh\n",
        "              annot_list_copy[i]['bbox']['xmax'] = bb_coordinates[img_for_bb][2]/dw\n",
        "              annot_list_copy[i]['bbox']['ymax'] = bb_coordinates[img_for_bb][3]/dh\n",
        "              print(\"xmin : \",bb_coordinates[img_for_bb][0]/dw , \"xmax : \",bb_coordinates[img_for_bb][2]/dw,\"ymin : \",bb_coordinates[img_for_bb][1]/dh,\"ymax : \",bb_coordinates[img_for_bb][3]/dh)\n",
        "              print(\"updated label = \",small_image.split('_')[2])\n",
        "              print(\"^^^^^^^^\")\n",
        "        elif annot_list_copy[i]['label']=='Text':\n",
        "          if img_for_bb in text_coordinates_LWK:\n",
        "            print(annot_list_copy[i]['bbox'])\n",
        "            print('i = ',i)\n",
        "            if annot_list_copy[i]['bbox']['xmin'] == text_coordinates_LWK[img_for_bb][0] and annot_list_copy[i]['bbox']['xmax'] == text_coordinates_LWK[img_for_bb][1] and annot_list_copy[i]['bbox']['ymin'] == text_coordinates_LWK[img_for_bb][2] and annot_list_copy[i]['bbox']['ymax'] == text_coordinates_LWK[img_for_bb][3]:\n",
        "              annot_list_copy[i]['label'] = small_image.split('_')[2]\n",
        "              print(\"%%%%%%%\")\n",
        "              print(\"text\")\n",
        "              annot_list_copy[i]['bbox']['xmin'] = bb_coordinates[img_for_bb][0]/dw\n",
        "              annot_list_copy[i]['bbox']['ymin'] = bb_coordinates[img_for_bb][1]/dh\n",
        "              annot_list_copy[i]['bbox']['xmax'] = bb_coordinates[img_for_bb][2]/dw\n",
        "              annot_list_copy[i]['bbox']['ymax'] = bb_coordinates[img_for_bb][3]/dh\n",
        "              print(\"xmin : \",bb_coordinates[img_for_bb][0]/dw , \"xmax : \",bb_coordinates[img_for_bb][2]/dw,\"ymin : \",bb_coordinates[img_for_bb][1]/dh,\"ymax : \",bb_coordinates[img_for_bb][3]/dh)\n",
        "              print(\"updated label = \",small_image.split('_')[2])\n",
        "              print(\"^^^^^^^^\")\n",
        "      page_dict[page_name]['annotations'] = annot_list_copy\n",
        "      bbx_dict['images'] = page_dict\n",
        "\n",
        "      annot_list_copy = {}\n",
        "\n",
        "      #return bbx_dict"
      ],
      "execution_count": 12,
      "outputs": []
    },
    {
      "cell_type": "code",
      "metadata": {
        "id": "gEgAL8aPPUH0"
      },
      "source": [
        "# THis function interchanges the size of the two images passed\n",
        "def change_size_white(first_image,second_image):\n",
        "  first_image_x = first_image.shape[0]\n",
        "  first_image_y = first_image.shape[1]\n",
        "  second_image_x = second_image.shape[0]\n",
        "  second_image_y = second_image.shape[1]\n",
        "\n",
        "  #reshape both images\n",
        "  first_image = cv2.resize(first_image, (second_image_y, second_image_x))\n",
        "  second_image = cv2.resize(second_image, (first_image_y, first_image_x)) \n",
        "  return first_image,second_image"
      ],
      "execution_count": 13,
      "outputs": []
    },
    {
      "cell_type": "code",
      "metadata": {
        "id": "fnUsK0UaPURa"
      },
      "source": [
        "def put_white_img(small_img_1,large_img_2,key_2,small_img_2):\n",
        "\n",
        "  s_img_1 = small_img_1\n",
        "  l_img_2 = large_img_2\n",
        "  x_offset_1= bb_coordinates[key_2][0]\n",
        "  y_offset_1= bb_coordinates[key_2][1]\n",
        "  l_img_2[y_offset_1:y_offset_1+s_img_1.shape[0], x_offset_1:x_offset_1+s_img_1.shape[1]] = s_img_1\n",
        "\n",
        "  return l_img_2"
      ],
      "execution_count": 14,
      "outputs": []
    },
    {
      "cell_type": "code",
      "metadata": {
        "id": "oS7Ho00RPUap"
      },
      "source": [
        "# This function handles Linear Tranformations like Rotation, Translation, Stretching, Scaling\n",
        "def linear_transformation(large_img,key,small_img):\n",
        "\n",
        "  lt_threshold = random.random()\n",
        "  small_img_height,small_img_width,_ = small_img.shape\n",
        "  transformed_small_img = small_img\n",
        "  \n",
        "  if lt_threshold > 0.3 and lt_threshold < 0.6:\n",
        "     selection_threshold = random.random()\n",
        "\n",
        "     if selection_threshold >= 0.3 and selection_threshold < 0.33:\n",
        "       size_threshold = random.random()\n",
        "\n",
        "       if size_threshold > 0.5:\n",
        "         small_img_height = small_img_height + int(small_img_height*0.09)\n",
        "         small_img_width = small_img_width + int(small_img_width*0.09)\n",
        "         bb_coordinates[key][2] = small_img_width+bb_coordinates[key][0]\n",
        "         bb_coordinates[key][3] = small_img_height+bb_coordinates[key][1]\n",
        "\n",
        "       else:\n",
        "         small_img_height = small_img_height - int(small_img_height*0.1)\n",
        "         small_img_width = small_img_width - int(small_img_width*0.1)\n",
        "         bb_coordinates[key][2] = small_img_width+bb_coordinates[key][0]\n",
        "         bb_coordinates[key][3] = small_img_height+bb_coordinates[key][1]\n",
        "\n",
        "       transformed_small_img = cv2.resize(small_img, (small_img_height, small_img_width))\n",
        "\n",
        "     elif selection_threshold >= 0.33 and selection_threshold < 0.6:\n",
        "       bb_coordinates[key][0] = bb_coordinates[key][0]+int(bb_coordinates[key][0]*0.02) # translation towards right\n",
        "     else :\n",
        "       bb_coordinates[key][0] = bb_coordinates[key][0]-int(bb_coordinates[key][0]*0.02) # translation towards left\n",
        "\n",
        "  elif lt_threshold <= 0.3 :\n",
        "    # invert (random 90 rotation)\n",
        "    if abs(small_img_height-small_img_width) < 10:\n",
        "      degree = random.randint(1,10)*90\n",
        "      num_rows, num_cols = small_img.shape[:2]\n",
        "      rotation_matrix = cv2.getRotationMatrix2D((num_cols/2, num_rows/2), degree, 1)\n",
        "      transformed_small_img = cv2.warpAffine(small_img, rotation_matrix, (num_cols, num_rows),borderValue=(255,255,255))\n",
        "     #= imutils.rotate(small_img, degree) \n",
        "    else:\n",
        "      degree = random.randint(1,10)*180\n",
        "      num_rows, num_cols = small_img.shape[:2]\n",
        "      rotation_matrix = cv2.getRotationMatrix2D((num_cols/2, num_rows/2), degree, 1)\n",
        "      transformed_small_img = cv2.warpAffine(small_img, rotation_matrix, (num_cols, num_rows),borderValue=(255,255,255))\n",
        "    \n",
        "  else :\n",
        "    stretch_threshold = random.random()\n",
        "\n",
        "    if stretch_threshold > 0.5:\n",
        "\n",
        "      # width_wise stretch \n",
        "      small_img_width = small_img_width + int(small_img_width*0.07)\n",
        "      dim = (small_img_width, small_img_height)\n",
        "      bb_coordinates[key][2] = small_img_width+bb_coordinates[key][0] # icrementing x_max according to width\n",
        "      transformed_small_img = cv2.resize(small_img, dim, interpolation = cv2.INTER_AREA)\n",
        "    else:\n",
        "\n",
        "      # height_wise stretch \n",
        "      small_img_height = small_img_height + int(small_img_height*0.07)\n",
        "      dim = (small_img_width, small_img_height)\n",
        "      bb_coordinates[key][3] = small_img_height+bb_coordinates[key][1] # icrementing y_max according to height\n",
        "      transformed_small_img = cv2.resize(small_img, dim, interpolation = cv2.INTER_AREA)\n",
        "\n",
        "  return transformed_small_img"
      ],
      "execution_count": 15,
      "outputs": []
    },
    {
      "cell_type": "code",
      "metadata": {
        "id": "lF1KCAzAPUj0"
      },
      "source": [
        "# This function handles the replacement \n",
        "def replace(small_img_1,large_img_2,key_2,small_img_2):\n",
        "\n",
        "  samll_img_1_aspect = float(small_img_1.shape[1])/small_img_1.shape[0]\n",
        "  samll_img_2_aspect = float(small_img_2.shape[1])/small_img_2.shape[0]\n",
        "\n",
        "  print(\"key_2 = \",key_2)\n",
        "\n",
        "  min_size = min(small_img_1.size,small_img_2.size)\n",
        "  max_size = max(small_img_1.size,small_img_2.size)\n",
        "  perc = min_size*100/max_size\n",
        "\n",
        "  s_img_1 = small_img_1\n",
        "  l_img_2 = large_img_2\n",
        "  x_offset_1= bb_coordinates[key_2][0]\n",
        "  y_offset_1= bb_coordinates[key_2][1]\n",
        "  l_img_2[y_offset_1:y_offset_1+s_img_1.shape[0], x_offset_1:x_offset_1+s_img_1.shape[1]] = s_img_1\n",
        "\n",
        "  return l_img_2"
      ],
      "execution_count": 16,
      "outputs": []
    },
    {
      "cell_type": "code",
      "metadata": {
        "id": "Voy8hmwLPUtG"
      },
      "source": [
        "new_dir = \"generated_layout/dataset/train\"\n",
        "if not os.path.exists(new_dir):\n",
        "    os.makedirs(new_dir)"
      ],
      "execution_count": 17,
      "outputs": []
    },
    {
      "cell_type": "code",
      "metadata": {
        "colab": {
          "base_uri": "https://localhost:8080/"
        },
        "id": "waLrUsmiPU25",
        "outputId": "3ce23fe3-e943-407d-d3ad-7d60d9f702d4"
      },
      "source": [
        "len(image_list)"
      ],
      "execution_count": 18,
      "outputs": [
        {
          "output_type": "execute_result",
          "data": {
            "text/plain": [
              "225"
            ]
          },
          "metadata": {
            "tags": []
          },
          "execution_count": 18
        }
      ]
    },
    {
      "cell_type": "code",
      "metadata": {
        "id": "AGgqhP1ePU_2"
      },
      "source": [
        "number = 0"
      ],
      "execution_count": 19,
      "outputs": []
    },
    {
      "cell_type": "code",
      "metadata": {
        "id": "fktYCbTfN0V2"
      },
      "source": [
        "# This function is used to update annotation after the splitting of text\n",
        "def update_annotation(new_part_name,splitted_text_coordinates,part_of_page):\n",
        "\n",
        "  text_number = int(part_of_page.split(\"_\")[3])\n",
        "\n",
        "  temp_dict = copy.deepcopy(label_annotation_LWK[part_of_page][text_number])\n",
        "\n",
        "  temp_dict['bbox']['xmin'] = splitted_text_coordinates[0]#/743\n",
        "  temp_dict['bbox']['ymin'] = splitted_text_coordinates[2]#/1247\n",
        "  temp_dict['bbox']['xmax'] = splitted_text_coordinates[1]#/743\n",
        "  temp_dict['bbox']['ymax'] = splitted_text_coordinates[3]#/1247\n",
        "\n",
        "  #print(splitted_text_coordinates[2])\n",
        "  #print(new_part_name)\n",
        "  text_coordinates_LWK[new_part_name] = splitted_text_coordinates\n",
        "  #text_coordinates_LWK[new_part_name][0] = splitted_text_coordinates[0]/743\n",
        "  #text_coordinates_LWK[new_part_name][1] = splitted_text_coordinates[2]/743\n",
        "  #text_coordinates_LWK[new_part_name][2] = splitted_text_coordinates[1]/1247\n",
        "  #text_coordinates_LWK[new_part_name][3] = splitted_text_coordinates[3]/1247\n",
        "\n",
        "  label_annotation_LWK[part_of_page].append(temp_dict)\n",
        "  label_annotation_LWK[new_part_name] = label_annotation_LWK[part_of_page]"
      ],
      "execution_count": 35,
      "outputs": []
    },
    {
      "cell_type": "code",
      "metadata": {
        "id": "U75VanUhpaYr"
      },
      "source": [
        "def add_padding(small_img_1,large_img_2,padding_coord,img_path):\n",
        "  # for first small image\n",
        "  s_img_1 = small_img_1\n",
        "  #print(\"vnsdfiv\",s_img_1.shape)\n",
        "  l_img_2 = large_img_2\n",
        "  x_offset_1= int(padding_coord[0]*743)\n",
        "  y_offset_1= int(padding_coord[2]*1247)\n",
        "  l_img_2[y_offset_1:y_offset_1+s_img_1.shape[0], x_offset_1:x_offset_1+s_img_1.shape[1]] = s_img_1\n",
        "  cv2.imwrite(img_path,l_img_2)\n",
        "  #cv2_imshow(l_img_2)"
      ],
      "execution_count": 21,
      "outputs": []
    },
    {
      "cell_type": "code",
      "metadata": {
        "id": "h7P5y5gs8IrZ"
      },
      "source": [
        "# This function divides the text into 3 parts of different sizes\n",
        "def divide(page,part_of_page,img_path):\n",
        "  \n",
        "  splitted_text_coordinates = {}\n",
        "  xmin = text_coordinates_LWK[part_of_page][0]\n",
        "  xmax = text_coordinates_LWK[part_of_page][1]\n",
        "  ymin = text_coordinates_LWK[part_of_page][2]\n",
        "  ymax = text_coordinates_LWK[part_of_page][3]\n",
        "\n",
        "  center_x = (xmin+xmax)/2\n",
        "  second_center_x = (center_x+xmax)/2\n",
        "  shifted_center_x = center_x-0.001\n",
        "  shifted_second_center_x = second_center_x+0.001\n",
        "\n",
        "  bbox_1 = [xmin,shifted_center_x-0.009,ymin,ymax]\n",
        "  padding_1 = [shifted_center_x-0.001,center_x+0.001,ymin,ymax]\n",
        "  bbox_2 = [center_x+0.009,second_center_x-0.009,ymin,ymax]\n",
        "  padding_2 = [second_center_x-0.001,shifted_second_center_x+0.001,ymin,ymax]\n",
        "  bbox_3 = [shifted_second_center_x+0.009,xmax,ymin,ymax] \n",
        "\n",
        "  padding_height = int((ymax-ymin)*1247)\n",
        "  padding_1_width = int((center_x+0.001-shifted_center_x-0.001)*743)\n",
        "  padding_2_width = int((shifted_second_center_x+0.001-second_center_x-0.001)*743)\n",
        "\n",
        "  white_padding_1 = np.zeros((padding_height,25,3),dtype=np.uint8)\n",
        "  white_padding_1.fill(255)\n",
        "\n",
        "  white_padding_2 = np.zeros((padding_height,25,3),dtype=np.uint8)\n",
        "  white_padding_2.fill(255)\n",
        "  #print((padding_height,padding_2_width,3))\n",
        "  #cv2_imshow(white_padding_2)\n",
        "\n",
        "  add_padding(white_padding_1,page,padding_1,img_path)\n",
        "  add_padding(white_padding_2,page,padding_2,img_path)\n",
        "\n",
        "  splitted_text_coordinates[1] = bbox_1\n",
        "  splitted_text_coordinates[2] = bbox_2\n",
        "  splitted_text_coordinates[3] = bbox_3\n",
        "\n",
        "  return splitted_text_coordinates "
      ],
      "execution_count": 22,
      "outputs": []
    },
    {
      "cell_type": "code",
      "metadata": {
        "id": "51CCkY610Voy"
      },
      "source": [
        "def split_text(page_name,part_of_page):\n",
        "\n",
        "  page = cv2.imread(\"Dataset/train/GON2/\"+page_name)\n",
        "  img_path = \"Dataset/train/GON2/\"+page_name\n",
        "  #print(page.shape)\n",
        "  \n",
        "  splitted_text_coordinates = divide(page,part_of_page,img_path)\n",
        "  #print(splitted_text_coordinates)\n",
        "\n",
        "  for i in range(len(splitted_text_coordinates)):\n",
        "    name = part_of_page+\"_\"+str(i+1)\n",
        "    page_details_LWK[page_name].append(name)\n",
        "    #print(name)\n",
        "    update_annotation(name,splitted_text_coordinates[i+1],part_of_page)\n",
        "\n",
        "  text_number = int(part_of_page.split(\"_\")[3])\n",
        "  label_annotation_LWK[part_of_page].pop(text_number)\n",
        "  label_annotation_LWK.pop(part_of_page,None)\n",
        "  page_details_LWK[page_name].remove(part_of_page)"
      ],
      "execution_count": 36,
      "outputs": []
    },
    {
      "cell_type": "code",
      "metadata": {
        "id": "mzKKiQebRqof"
      },
      "source": [
        "#page_name = random.choice(image_list)"
      ],
      "execution_count": null,
      "outputs": []
    },
    {
      "cell_type": "code",
      "metadata": {
        "id": "8AVh6hD3s6SG"
      },
      "source": [
        "#temp_page = page_details_LWK[\"GK2_page-0182.jpg\"]\n",
        "#for i in range(len(temp_page)):\n",
        "#  if temp_page[i].split(\"_\")[2] == 'Text':\n",
        "      #print(temp_page[i],\"=\",text_coordinates_LWK[temp_page[i]])\n",
        "#    width = int((text_coordinates_LWK[temp_page[i]][1]-text_coordinates_LWK[temp_page[i]][0])*743)\n",
        "#    height = int((text_coordinates_LWK[temp_page[i]][1]-text_coordinates_LWK[temp_page[i]][0])*1247)\n",
        "      #print(temp_page[i],\"=\",width,\":\",height)\n",
        "#    if width >480:\n",
        "#       split_threshold = random.random()\n",
        "       # if split_threshold <= 0.15:\n",
        "#       split_text(\"GK2_page-0182.jpg\",temp_page[i])\n",
        "#    else:\n",
        "#       continue\n",
        "#  break"
      ],
      "execution_count": 24,
      "outputs": []
    },
    {
      "cell_type": "code",
      "metadata": {
        "id": "INpU25kA0rSf"
      },
      "source": [
        "for page_name in page_details_LWK.keys():\n",
        "  temp_page = page_details_LWK[page_name]\n",
        "  for i in range(len(temp_page)):\n",
        "    if temp_page[i].split(\"_\")[2] == 'Text':\n",
        "      #print(temp_page[i],\"=\",text_coordinates_LWK[temp_page[i]])\n",
        "      width = int((text_coordinates_LWK[temp_page[i]][1]-text_coordinates_LWK[temp_page[i]][0])*743)\n",
        "      height = int((text_coordinates_LWK[temp_page[i]][1]-text_coordinates_LWK[temp_page[i]][0])*1247)\n",
        "      #print(temp_page[i],\"=\",width,\":\",height)\n",
        "      if width >500:\n",
        "        split_threshold = random.random()\n",
        "        if split_threshold <= 0.15:\n",
        "          split_text(page_name,temp_page[i])\n",
        "      else:\n",
        "        continue\n",
        "  #break"
      ],
      "execution_count": 37,
      "outputs": []
    },
    {
      "cell_type": "code",
      "metadata": {
        "colab": {
          "base_uri": "https://localhost:8080/"
        },
        "id": "tKyCfItuR13g",
        "outputId": "c7751f31-0d64-42c8-c765-083c21803730"
      },
      "source": [
        "text_coordinates_LWK['GON2/GK2_page-0184.jpg_Text_4']"
      ],
      "execution_count": null,
      "outputs": [
        {
          "output_type": "execute_result",
          "data": {
            "text/plain": [
              "[0.12570781426953567,\n",
              " 0.4507361268403171,\n",
              " 0.28951612903225804,\n",
              " 0.31209677419354837]"
            ]
          },
          "metadata": {
            "tags": []
          },
          "execution_count": 27
        }
      ]
    },
    {
      "cell_type": "code",
      "metadata": {
        "colab": {
          "base_uri": "https://localhost:8080/"
        },
        "id": "4Tc_pzD4SEcV",
        "outputId": "c56db679-aab9-407a-a296-db469775c1f5"
      },
      "source": [
        "page_details_LWK['GK2_page-0184.jpg']"
      ],
      "execution_count": null,
      "outputs": [
        {
          "output_type": "execute_result",
          "data": {
            "text/plain": [
              "['GON2/GK2_page-0184.jpg_Text_0',\n",
              " 'GON2/GK2_page-0184.jpg_Text_1',\n",
              " 'GON2/GK2_page-0184.jpg_Text_2',\n",
              " 'GON2/GK2_page-0184.jpg_Text_4',\n",
              " 'GON2/GK2_page-0184.jpg_Image_5',\n",
              " 'GON2/GK2_page-0184.jpg_Math_6',\n",
              " 'GON2/GK2_page-0184.jpg_Math_7',\n",
              " 'GON2/GK2_page-0184.jpg_Math_8',\n",
              " 'GON2/GK2_page-0184.jpg_Math_9',\n",
              " 'GON2/GK2_page-0184.jpg_Math_10',\n",
              " 'GON2/GK2_page-0184.jpg_Math_11',\n",
              " 'GON2/GK2_page-0184.jpg_Math_12',\n",
              " 'GON2/GK2_page-0184.jpg_Math_13',\n",
              " 'GON2/GK2_page-0184.jpg_Math_14',\n",
              " 'GON2/GK2_page-0184.jpg_Text_3_1',\n",
              " 'GON2/GK2_page-0184.jpg_Text_3_2',\n",
              " 'GON2/GK2_page-0184.jpg_Text_3_3']"
            ]
          },
          "metadata": {
            "tags": []
          },
          "execution_count": 28
        }
      ]
    },
    {
      "cell_type": "code",
      "metadata": {
        "id": "y2F5k9g5SLT9"
      },
      "source": [
        "from_random_page = page_details_LWK['GK2_page-0184.jpg'][0]"
      ],
      "execution_count": null,
      "outputs": []
    },
    {
      "cell_type": "code",
      "metadata": {
        "colab": {
          "base_uri": "https://localhost:8080/"
        },
        "id": "n2_VBZHuPw98",
        "outputId": "46976c9b-5ab1-4eaf-a17f-7661002ac23a"
      },
      "source": [
        "text_count = 0\n",
        "image_count = 0\n",
        "table_count = 0\n",
        "math_count = 0\n",
        "total_count = len(label_annotation_LWK[from_random_page])\n",
        "for i in range(total_count):\n",
        "  j=label_annotation_LWK[from_random_page][i]['label']\n",
        "  if j=='Text':\n",
        "    text_count+=1\n",
        "  elif j =='Image':\n",
        "    image_count+=1\n",
        "  elif j=='Table':\n",
        "    table_count+=1\n",
        "  else:\n",
        "    math_count+=1\n",
        "\n",
        "print(\"text_count = \",text_count)\n",
        "print(\"image_count = \",image_count)\n",
        "print(\"table_count = \",table_count)\n",
        "print(\"math_count = \",math_count)\n",
        "print(\"total_count = \",total_count)"
      ],
      "execution_count": null,
      "outputs": [
        {
          "output_type": "stream",
          "text": [
            "text_count =  7\n",
            "image_count =  1\n",
            "table_count =  0\n",
            "math_count =  9\n",
            "total_count =  17\n"
          ],
          "name": "stdout"
        }
      ]
    },
    {
      "cell_type": "code",
      "metadata": {
        "colab": {
          "base_uri": "https://localhost:8080/"
        },
        "id": "E4Drv-PKSEn9",
        "outputId": "572760b6-78c2-4f69-b2f0-97c99fe950d7"
      },
      "source": [
        "to_replace_with,_ = random.choice(list(table_coordinates_LWK.items()))\n",
        "print(to_replace_with)"
      ],
      "execution_count": null,
      "outputs": [
        {
          "output_type": "stream",
          "text": [
            "GON2/GK2_page-0382.jpg_Table_15\n"
          ],
          "name": "stdout"
        }
      ]
    },
    {
      "cell_type": "code",
      "metadata": {
        "colab": {
          "base_uri": "https://localhost:8080/",
          "height": 35
        },
        "id": "5YJOm-6VSp_y",
        "outputId": "ef646532-6b89-45a2-c99f-d04ae614dce1"
      },
      "source": [
        "to_replace_with.split(\"_\")[0]+\"_\"+to_replace_with.split(\"_\")[1]"
      ],
      "execution_count": null,
      "outputs": [
        {
          "output_type": "execute_result",
          "data": {
            "application/vnd.google.colaboratory.intrinsic+json": {
              "type": "string"
            },
            "text/plain": [
              "'GON2/GK2_page-0382.jpg'"
            ]
          },
          "metadata": {
            "tags": []
          },
          "execution_count": 26
        }
      ]
    },
    {
      "cell_type": "code",
      "metadata": {
        "colab": {
          "base_uri": "https://localhost:8080/",
          "height": 35
        },
        "id": "EBsidlvqS5QF",
        "outputId": "0f725366-0121-4c5e-b14f-79f876f6be72"
      },
      "source": [
        "to_replace_with.split(\"_\")[2]"
      ],
      "execution_count": null,
      "outputs": [
        {
          "output_type": "execute_result",
          "data": {
            "application/vnd.google.colaboratory.intrinsic+json": {
              "type": "string"
            },
            "text/plain": [
              "'Table'"
            ]
          },
          "metadata": {
            "tags": []
          },
          "execution_count": 27
        }
      ]
    },
    {
      "cell_type": "code",
      "metadata": {
        "id": "uCRvvhsjPVKU"
      },
      "source": [
        "def process_image(page_name,number):\n",
        "\n",
        "  count = 0\n",
        "  for part in page_details_LWK[page_name]:\n",
        "\n",
        "    print(part+\"&\"+str(count))\n",
        "    if count==0:\n",
        "      main_img_page = cv2.imread(image_path+\"/\"+part.split(\"_\")[0]+\"_\"+part.split(\"_\")[1])\n",
        "      label_annotation_LWK_copied = copy.deepcopy(label_annotation_LWK)\n",
        "\n",
        "    threshold_for_choosing = random.random()\n",
        "\n",
        "    if  threshold_for_choosing > 0.4 and part.split(\"_\")[2] == 'Image':\n",
        "\n",
        "      inner_threshold = random.random()\n",
        "\n",
        "      if inner_threshold > 0.4 :\n",
        "          to_replace_with,_ = random.choice(list(table_coordinates_LWK.items()))\n",
        "\n",
        "          if to_replace_with.split(\"_\")[0]+\"_\"+to_replace_with.split(\"_\")[1] != part.split(\"_\")[0]+\"_\"+part.split(\"_\")[1]:\n",
        "            replacing_img_page = cv2.imread(image_path+\"/\"+to_replace_with.split(\"_\")[0]+\"_\"+to_replace_with.split(\"_\")[1])\n",
        "            #main_img_page = cv2.imread(image_path+\"/\"+part.split(\"_\")[0])\n",
        "\n",
        "            extract_roi(table_coordinates_LWK[to_replace_with],replacing_img_page,to_replace_with)\n",
        "            extract_roi(image_coordinates_LWK[part],main_img_page,part)\n",
        "\n",
        "\n",
        "            extracted_im_1 = cv2.imread(to_replace_with.split('/')[0]+\"_\"+to_replace_with.split('/')[1]+\"_extracted.png\")\n",
        "            extracted_im_2 = cv2.imread(part.split('/')[0]+\"_\"+part.split('/')[1]+\"_extracted.png\") \n",
        "            white_img = np.zeros(extracted_im_2.shape,dtype=np.uint8)\n",
        "            white_img.fill(255)\n",
        "          \n",
        "            if abs(extracted_im_1.shape[0]-extracted_im_2.shape[0])>45 or abs(extracted_im_1.shape[1]-extracted_im_2.shape[1])>45: # changed from 40 to 55\n",
        "              # this will execute if to_replace_with table is not of the accepted shape\n",
        "              main_img_page = put_white_img(white_img,main_img_page,part,extracted_im_2)\n",
        "              transformed_extracted_im_2 = linear_transformation(main_img_page,part,extracted_im_2)\n",
        "              updated_main_img_page= replace(transformed_extracted_im_2,main_img_page,part,extracted_im_2)\n",
        "              #cv2_imshow(updated_main_img_page)\n",
        "\n",
        "              cv2.imwrite(os.path.join(new_dir ,page_name.split(\".\")[0]+\"_\"+str(number)+\".jpeg\"), updated_main_img_page)\n",
        "              create_bbx(page_name.split(\".\")[0]+\"_\"+str(number)+\".jpeg\",updated_main_img_page,label_annotation_LWK_copied[part],part,part)\n",
        "              continue\n",
        "\n",
        "            main_img_page = put_white_img(white_img,main_img_page,part,extracted_im_2)\n",
        "\n",
        "            \n",
        "\n",
        "            extracted_im_2 = linear_transformation(main_img_page,part,extracted_im_2)\n",
        "            print(\"here in image to table\")\n",
        "            print(extracted_im_1.shape)\n",
        "            print(extracted_im_2.shape)\n",
        "\n",
        "            extracted_im_1,extracted_im_2 = change_size_white(extracted_im_1,extracted_im_2)\n",
        "\n",
        "            print(extracted_im_1.shape)\n",
        "            print(extracted_im_2.shape) \n",
        "\n",
        "            print(\"**********************\")     \n",
        "\n",
        "            # if aspect_ratio condition are acceptable\n",
        "            #linear_transformation(main_img_page,part,extracted_im_1) # as ex_im_1 is now as same shape of ex_im_2\n",
        "            updated_main_img_page= replace(extracted_im_1,main_img_page,part,extracted_im_2)\n",
        "            #cv2_imshow(updated_main_img_page)\n",
        "\n",
        "            cv2.imwrite(os.path.join(new_dir ,page_name.split(\".\")[0]+\"_\"+str(number)+\".jpeg\"), updated_main_img_page)\n",
        "            create_bbx(page_name.split(\".\")[0]+\"_\"+str(number)+\".jpeg\",updated_main_img_page,label_annotation_LWK_copied[part],to_replace_with,part)\n",
        "\n",
        "      else:\n",
        "        to_replace_with,_ = random.choice(list(image_coordinates_LWK.items()))\n",
        "\n",
        "        if to_replace_with.split(\"_\")[0]+\"_\"+to_replace_with.split(\"_\")[1] != part.split(\"_\")[0]+\"_\"+part.split(\"_\")[1]:\n",
        "          replacing_img_page = cv2.imread(image_path+\"/\"+to_replace_with.split(\"_\")[0]+\"_\"+to_replace_with.split(\"_\")[1])\n",
        "          #main_img_page = cv2.imread(image_path+\"/\"+part.split(\"_\")[0])\n",
        "\n",
        "          extract_roi(image_coordinates_LWK[to_replace_with],replacing_img_page,to_replace_with)\n",
        "          extract_roi(image_coordinates_LWK[part],main_img_page,part)\n",
        "\n",
        "\n",
        "          extracted_im_1 = cv2.imread(to_replace_with.split('/')[0]+\"_\"+to_replace_with.split('/')[1]+\"_extracted.png\")\n",
        "          extracted_im_2 = cv2.imread(part.split('/')[0]+\"_\"+part.split('/')[1]+\"_extracted.png\") \n",
        "          white_img = np.zeros(extracted_im_2.shape,dtype=np.uint8)\n",
        "          white_img.fill(255)\n",
        "\n",
        "          if abs(extracted_im_1.shape[0]-extracted_im_2.shape[0])>45 or abs(extracted_im_1.shape[1]-extracted_im_2.shape[1])>45:\n",
        "              # this will execute if to_replace_with image is not of the accepted shape\n",
        "              main_img_page = put_white_img(white_img,main_img_page,part,extracted_im_2)\n",
        "              transformed_extracted_im_2 = linear_transformation(main_img_page,part,extracted_im_2)\n",
        "              updated_main_img_page= replace(transformed_extracted_im_2,main_img_page,part,extracted_im_2)\n",
        "              #cv2_imshow(updated_main_img_page)\n",
        "\n",
        "              cv2.imwrite(os.path.join(new_dir ,page_name.split(\".\")[0]+\"_\"+str(number)+\".jpeg\"), updated_main_img_page)\n",
        "              create_bbx(page_name.split(\".\")[0]+\"_\"+str(number)+\".jpeg\",updated_main_img_page,label_annotation_LWK_copied[part],part,part)\n",
        "              continue\n",
        "\n",
        "          main_img_page = put_white_img(white_img,main_img_page,part,extracted_im_2)\n",
        "\n",
        "          extracted_im_2 = linear_transformation(main_img_page,part,extracted_im_2)\n",
        "\n",
        "          print(\"here in image to image\")\n",
        "          print(extracted_im_1.shape)\n",
        "          print(extracted_im_2.shape)\n",
        "\n",
        "          extracted_im_1,extracted_im_2 = change_size_white(extracted_im_1,extracted_im_2)\n",
        "\n",
        "          print(extracted_im_1.shape)\n",
        "          print(extracted_im_2.shape)      \n",
        "          print(\"**********************\")\n",
        "          updated_main_img_page= replace(extracted_im_1,main_img_page,part,extracted_im_2)\n",
        "          #cv2_imshow(updated_main_img_page)\n",
        "\n",
        "          cv2.imwrite(os.path.join(new_dir ,page_name.split(\".\")[0]+\"_\"+str(number)+\".jpeg\"), updated_main_img_page)\n",
        "          create_bbx(page_name.split(\".\")[0]+\"_\"+str(number)+\".jpeg\",updated_main_img_page,label_annotation_LWK_copied[part],to_replace_with,part)\n",
        "\n",
        "    elif threshold_for_choosing > 0.35 and part.split(\"_\")[2] == 'Table':\n",
        "\n",
        "      to_replace_with,_ = random.choice(list(table_coordinates_LWK.items()))\n",
        "\n",
        "      if to_replace_with.split(\"_\")[0]+\"_\"+to_replace_with.split(\"_\")[1] != part.split(\"_\")[0]+\"_\"+part.split(\"_\")[1]:\n",
        "        replacing_img_page = cv2.imread(image_path+\"/\"+to_replace_with.split(\"_\")[0]+\"_\"+to_replace_with.split(\"_\")[1])\n",
        "        #main_img_page = cv2.imread(image_path+\"/\"+part.split(\"_\")[0])\n",
        "\n",
        "        extract_roi(table_coordinates_LWK[to_replace_with],replacing_img_page,to_replace_with)\n",
        "        extract_roi(table_coordinates_LWK[part],main_img_page,part)\n",
        "\n",
        "\n",
        "        extracted_im_1 = cv2.imread(to_replace_with.split('/')[0]+\"_\"+to_replace_with.split('/')[1]+\"_extracted.png\")\n",
        "        extracted_im_2 = cv2.imread(part.split('/')[0]+\"_\"+part.split('/')[1]+\"_extracted.png\") \n",
        "        white_img = np.zeros(extracted_im_2.shape,dtype=np.uint8)\n",
        "        white_img.fill(255)\n",
        "\n",
        "        if abs(extracted_im_1.shape[0]-extracted_im_2.shape[0])>40 or abs(extracted_im_1.shape[1]-extracted_im_2.shape[1])>40:\n",
        "              # this will execute if to_replace_with table is not of the accepted shape\n",
        "              main_img_page = put_white_img(white_img,main_img_page,part,extracted_im_2)\n",
        "              transformed_extracted_im_2 = linear_transformation(main_img_page,part,extracted_im_2)\n",
        "              updated_main_img_page= replace(transformed_extracted_im_2,main_img_page,part,extracted_im_2)\n",
        "              #cv2_imshow(updated_main_img_page)\n",
        "\n",
        "              cv2.imwrite(os.path.join(new_dir ,page_name.split(\".\")[0]+\"_\"+str(number)+\".jpeg\"), updated_main_img_page)\n",
        "              create_bbx(page_name.split(\".\")[0]+\"_\"+str(number)+\".jpeg\",updated_main_img_page,label_annotation_LWK_copied[part],part,part)\n",
        "              continue\n",
        "\n",
        "        main_img_page = put_white_img(white_img,main_img_page,part,extracted_im_2)\n",
        "\n",
        "        extracted_im_2 = linear_transformation(main_img_page,part,extracted_im_2)\n",
        "\n",
        "        print(\"here in table to table\")\n",
        "        print(extracted_im_1.shape)\n",
        "        print(extracted_im_2.shape)\n",
        "\n",
        "        extracted_im_1,extracted_im_2 = change_size_white(extracted_im_1,extracted_im_2)\n",
        "\n",
        "        print(extracted_im_1.shape)\n",
        "        print(extracted_im_2.shape)      \n",
        "        print(\"**********************\")\n",
        "        updated_main_img_page= replace(extracted_im_1,main_img_page,part,extracted_im_2)\n",
        "        #cv2_imshow(updated_main_img_page)\n",
        "\n",
        "        cv2.imwrite(os.path.join(new_dir ,page_name.split(\".\")[0]+\"_\"+str(number)+\".jpeg\"), updated_main_img_page)\n",
        "        create_bbx(page_name.split(\".\")[0]+\"_\"+str(number)+\".jpeg\",updated_main_img_page,label_annotation_LWK_copied[part],to_replace_with,part)\n",
        "\n",
        "    elif threshold_for_choosing > 0.5 and part.split(\"_\")[2] == 'Math':\n",
        "\n",
        "      to_replace_with,_ = random.choice(list(math_coordinates_LWK.items()))\n",
        "\n",
        "      if to_replace_with.split(\"_\")[0]+\"_\"+to_replace_with.split(\"_\")[1] != part.split(\"_\")[0]+\"_\"+part.split(\"_\")[1]:\n",
        "        replacing_img_page = cv2.imread(image_path+\"/\"+to_replace_with.split(\"_\")[0]+\"_\"+to_replace_with.split(\"_\")[1])\n",
        "        #main_img_page = cv2.imread(image_path+\"/\"+part.split(\"_\")[0])\n",
        "\n",
        "        extract_roi(math_coordinates_LWK[to_replace_with],replacing_img_page,to_replace_with)\n",
        "        extract_roi(math_coordinates_LWK[part],main_img_page,part)\n",
        "\n",
        "\n",
        "        extracted_im_1 = cv2.imread(to_replace_with.split('/')[0]+\"_\"+to_replace_with.split('/')[1]+\"_extracted.png\")\n",
        "        extracted_im_2 = cv2.imread(part.split('/')[0]+\"_\"+part.split('/')[1]+\"_extracted.png\") \n",
        "        white_img = np.zeros(extracted_im_2.shape,dtype=np.uint8)\n",
        "        white_img.fill(255)\n",
        "\n",
        "        if abs(extracted_im_1.shape[0]-extracted_im_2.shape[0])>40 or abs(extracted_im_1.shape[1]-extracted_im_2.shape[1])>40:\n",
        "          continue\n",
        "\n",
        "        main_img_page = put_white_img(white_img,main_img_page,part,extracted_im_2)\n",
        "\n",
        "        print(\"here in math to math\")\n",
        "        print(extracted_im_1.shape)\n",
        "        print(extracted_im_2.shape)\n",
        "\n",
        "        extracted_im_1,extracted_im_2 = change_size_white(extracted_im_1,extracted_im_2)\n",
        "\n",
        "        print(extracted_im_1.shape)\n",
        "        print(extracted_im_2.shape)      \n",
        "        print(\"**********************\")\n",
        "        updated_main_img_page= replace(extracted_im_1,main_img_page,part,extracted_im_2)\n",
        "        #cv2_imshow(updated_main_img_page)\n",
        "\n",
        "        cv2.imwrite(os.path.join(new_dir ,page_name.split(\".\")[0]+\"_\"+str(number)+\".jpeg\"), updated_main_img_page)\n",
        "        create_bbx(page_name.split(\".\")[0]+\"_\"+str(number)+\".jpeg\",updated_main_img_page,label_annotation_LWK_copied[part],to_replace_with,part)\n",
        "  \n",
        "    if  threshold_for_choosing > 0.4 and part.split(\"_\")[2] == 'Text':\n",
        "\n",
        "      inner_threshold = random.random()\n",
        "\n",
        "      if inner_threshold > 0.4 :\n",
        "          to_replace_with,_ = random.choice(list(text_coordinates_LWK.items()))\n",
        "\n",
        "          if to_replace_with.split(\"_\")[0]+\"_\"+to_replace_with.split(\"_\")[1] != part.split(\"_\")[0]+\"_\"+part.split(\"_\")[1]:\n",
        "            replacing_img_page = cv2.imread(image_path+\"/\"+to_replace_with.split(\"_\")[0]+\"_\"+to_replace_with.split(\"_\")[1])\n",
        "            #main_img_page = cv2.imread(image_path+\"/\"+part.split(\"_\")[0])\n",
        "\n",
        "            extract_roi(text_coordinates_LWK[to_replace_with],replacing_img_page,to_replace_with)\n",
        "            extract_roi(text_coordinates_LWK[part],main_img_page,part)\n",
        "\n",
        "\n",
        "            extracted_im_1 = cv2.imread(to_replace_with.split('/')[0]+\"_\"+to_replace_with.split('/')[1]+\"_extracted.png\")\n",
        "            extracted_im_2 = cv2.imread(part.split('/')[0]+\"_\"+part.split('/')[1]+\"_extracted.png\") \n",
        "            white_img = np.zeros(extracted_im_2.shape,dtype=np.uint8)\n",
        "            white_img.fill(255)\n",
        "          \n",
        "            if abs(extracted_im_1.shape[0]-extracted_im_2.shape[0])>30 or abs(extracted_im_1.shape[1]-extracted_im_2.shape[1])>30: # changed from 40 to 55\n",
        "                continue\n",
        "\n",
        "            main_img_page = put_white_img(white_img,main_img_page,part,extracted_im_2)\n",
        "\n",
        "            #extracted_im_2 = linear_transformation(main_img_page,part,extracted_im_2)\n",
        "            print(\"here in text to text\")\n",
        "            print(extracted_im_1.shape)\n",
        "            print(extracted_im_2.shape)\n",
        "\n",
        "            extracted_im_1,extracted_im_2 = change_size_white(extracted_im_1,extracted_im_2)\n",
        "\n",
        "            print(extracted_im_1.shape)\n",
        "            print(extracted_im_2.shape) \n",
        "\n",
        "            print(\"**********************\")     \n",
        "\n",
        "            # if aspect_ratio condition are acceptable\n",
        "            #linear_transformation(main_img_page,part,extracted_im_1) # as ex_im_1 is now as same shape of ex_im_2\n",
        "            updated_main_img_page= replace(extracted_im_1,main_img_page,part,extracted_im_2)\n",
        "            #cv2_imshow(updated_main_img_page)\n",
        "\n",
        "            cv2.imwrite(os.path.join(new_dir ,page_name.split(\".\")[0]+\"_\"+str(number)+\".jpeg\"), updated_main_img_page)\n",
        "            create_bbx(page_name.split(\".\")[0]+\"_\"+str(number)+\".jpeg\",updated_main_img_page,label_annotation_LWK_copied[part],to_replace_with,part)\n",
        "\n",
        "      else:\n",
        "        to_replace_with,_ = random.choice(list(math_coordinates_LWK.items()))\n",
        "\n",
        "        if to_replace_with.split(\"_\")[0]+\"_\"+to_replace_with.split(\"_\")[1] != part.split(\"_\")[0]+\"_\"+part.split(\"_\")[1]:\n",
        "          replacing_img_page = cv2.imread(image_path+\"/\"+to_replace_with.split(\"_\")[0]+\"_\"+to_replace_with.split(\"_\")[1])\n",
        "          #main_img_page = cv2.imread(image_path+\"/\"+part.split(\"_\")[0])\n",
        "\n",
        "          extract_roi(math_coordinates_LWK[to_replace_with],replacing_img_page,to_replace_with)\n",
        "          extract_roi(text_coordinates_LWK[part],main_img_page,part)\n",
        "\n",
        "\n",
        "          extracted_im_1 = cv2.imread(to_replace_with.split('/')[0]+\"_\"+to_replace_with.split('/')[1]+\"_extracted.png\")\n",
        "          extracted_im_2 = cv2.imread(part.split('/')[0]+\"_\"+part.split('/')[1]+\"_extracted.png\") \n",
        "          white_img = np.zeros(extracted_im_2.shape,dtype=np.uint8)\n",
        "          white_img.fill(255)\n",
        "\n",
        "          if abs(extracted_im_1.shape[0]-extracted_im_2.shape[0])>30 or abs(extracted_im_1.shape[1]-extracted_im_2.shape[1])>30:\n",
        "             continue\n",
        "\n",
        "          main_img_page = put_white_img(white_img,main_img_page,part,extracted_im_2)\n",
        "\n",
        "          #extracted_im_2 = linear_transformation(main_img_page,part,extracted_im_2)\n",
        "\n",
        "          print(\"here in text to math\")\n",
        "          print(extracted_im_1.shape)\n",
        "          print(extracted_im_2.shape)\n",
        "\n",
        "          extracted_im_1,extracted_im_2 = change_size_white(extracted_im_1,extracted_im_2)\n",
        "\n",
        "          print(extracted_im_1.shape)\n",
        "          print(extracted_im_2.shape)      \n",
        "          print(\"**********************\")\n",
        "          updated_main_img_page= replace(extracted_im_1,main_img_page,part,extracted_im_2)\n",
        "          #cv2_imshow(updated_main_img_page)\n",
        "\n",
        "          cv2.imwrite(os.path.join(new_dir ,page_name.split(\".\")[0]+\"_\"+str(number)+\".jpeg\"), updated_main_img_page)\n",
        "          create_bbx(page_name.split(\".\")[0]+\"_\"+str(number)+\".jpeg\",updated_main_img_page,label_annotation_LWK_copied[part],to_replace_with,part)\n",
        "\n",
        "    count = count+1\n",
        "  #break"
      ],
      "execution_count": 26,
      "outputs": []
    },
    {
      "cell_type": "code",
      "metadata": {
        "id": "DY9r-JrNPVTY"
      },
      "source": [
        "image_path = dataset_path+\"/train\""
      ],
      "execution_count": 27,
      "outputs": []
    },
    {
      "cell_type": "code",
      "metadata": {
        "id": "kx8kBXF0t2GB"
      },
      "source": [
        "#process_image('GK2_page-0182.jpg',number)"
      ],
      "execution_count": null,
      "outputs": []
    },
    {
      "cell_type": "code",
      "metadata": {
        "colab": {
          "base_uri": "https://localhost:8080/"
        },
        "id": "Gf6g3sFRPVb3",
        "outputId": "b119ac58-acf8-4432-e0b9-cc1ee41f9296"
      },
      "source": [
        "for i in range(10):\n",
        "  page_name = random.choice(image_list)\n",
        "  from_random_page = page_details_LWK[page_name][0]\n",
        "  text_count = 0\n",
        "  #image_count = 0\n",
        "  #table_count = 0\n",
        "  #math_count = 0\n",
        "  total_count = len(label_annotation_LWK[from_random_page])\n",
        "  for i in range(total_count):\n",
        "    j=label_annotation_LWK[from_random_page][i]['label']\n",
        "    if j=='Text':\n",
        "      text_count+=1\n",
        "  if (text_count/total_count)*100 >= 70:\n",
        "    continue \n",
        "  process_image(page_name,number)\n",
        "  number+=1"
      ],
      "execution_count": 30,
      "outputs": [
        {
          "output_type": "stream",
          "text": [
            "GON2/GK2_page-0109.jpg_Text_0&0\n",
            "GON2_GK2_page-0249.jpg_Text_9\n",
            "292 585 552 628\n",
            "GON2_GK2_page-0109.jpg_Text_0\n",
            "325 77 405 104\n",
            "GON2/GK2_page-0109.jpg_Text_1&0\n",
            "GON2_GK2_page-0033.jpg_Text_4\n",
            "121 314 633 346\n",
            "GON2_GK2_page-0109.jpg_Text_1\n",
            "262 126 467 159\n",
            "GON2/GK2_page-0109.jpg_Image_2&0\n",
            "GON2/GK2_page-0109.jpg_Text_3&1\n",
            "GON2/GK2_page-0109.jpg_Text_4&2\n",
            "GON2_GK2_page-0007.jpg_Text_16\n",
            "169 604 562 633\n",
            "GON2_GK2_page-0109.jpg_Text_4\n",
            "76 455 250 483\n",
            "GON2/GK2_page-0109.jpg_Text_5&2\n",
            "GON2_GK2_page-0125.jpg_Text_22_3\n",
            "503 1097 622 1128\n",
            "GON2_GK2_page-0109.jpg_Text_5\n",
            "116 493 475 524\n",
            "GON2/GK2_page-0109.jpg_Text_6&2\n",
            "GON2_GK2_page-0063.jpg_Text_19\n",
            "209 1012 592 1056\n",
            "GON2_GK2_page-0109.jpg_Text_6\n",
            "77 557 531 583\n",
            "GON2/GK2_page-0109.jpg_Text_7&2\n",
            "GON2_GK2_page-0313.jpg_Text_15\n",
            "228 847 488 885\n",
            "GON2_GK2_page-0109.jpg_Text_7\n",
            "77 611 658 646\n",
            "GON2/GK2_page-0109.jpg_Text_9&2\n",
            "GON2_GK2_page-0234.jpg_Text_20\n",
            "122 1137 581 1171\n",
            "GON2_GK2_page-0109.jpg_Text_9\n",
            "77 689 660 724\n",
            "GON2/GK2_page-0109.jpg_Text_10&2\n",
            "GON2_GK2_page-0198.jpg_Math_9\n",
            "296 625 579 682\n",
            "GON2_GK2_page-0109.jpg_Text_10\n",
            "78 743 160 776\n",
            "GON2/GK2_page-0109.jpg_Image_11&2\n",
            "GON2/GK2_page-0109.jpg_Text_12&3\n",
            "GON2/GK2_page-0109.jpg_Text_13&4\n",
            "GON2/GK2_page-0109.jpg_Text_14&5\n",
            "GON2/GK2_page-0109.jpg_Math_15&6\n",
            "GON2_GK2_page-0011.jpg_Math_30\n",
            "296 892 437 927\n",
            "GON2_GK2_page-0109.jpg_Math_15\n",
            "194 726 557 784\n",
            "GON2/GK2_page-0109.jpg_Math_16&6\n",
            "GON2/GK2_page-0109.jpg_Math_17&7\n",
            "GON2/GK2_page-0109.jpg_Math_18&8\n",
            "GON2/GK2_page-0109.jpg_Math_19&9\n",
            "GON2/GK2_page-0109.jpg_Math_20&10\n",
            "GON2/GK2_page-0109.jpg_Text_21&11\n",
            "GON2_GK2_page-0184.jpg_Math_6\n",
            "132 766 234 794\n",
            "GON2_GK2_page-0109.jpg_Text_21\n",
            "119 1004 199 1034\n",
            "here in text to math\n",
            "(28, 102, 3)\n",
            "(30, 80, 3)\n",
            "(30, 80, 3)\n",
            "(28, 102, 3)\n",
            "**********************\n",
            "key_2 =  GON2/GK2_page-0109.jpg_Text_21\n",
            "create_bbx =  GK2_page-0109_1.jpeg   img_for_bb =  GON2/GK2_page-0109.jpg_Text_21\n",
            "{'xmin': 0.43827859569648925, 'xmax': 0.5458663646659117, 'ymin': 0.062096774193548386, 'ymax': 0.08387096774193549}\n",
            "i =  0\n",
            "{'xmin': 0.35334088335220837, 'xmax': 0.6296715741789355, 'ymin': 0.10161290322580645, 'ymax': 0.1282258064516129}\n",
            "i =  1\n",
            "{'xmin': 0.144960362400906, 'xmax': 0.46333020087869364, 'ymin': 0.31693548387096776, 'ymax': 0.3571207961564859}\n",
            "i =  3\n",
            "{'xmin': 0.10305775764439411, 'xmax': 0.33748584371460927, 'ymin': 0.36532258064516127, 'ymax': 0.3879032258064516}\n",
            "i =  4\n",
            "{'xmin': 0.15628539071347677, 'xmax': 0.6394785667815234, 'ymin': 0.3953843514070007, 'ymax': 0.42071608327613813}\n",
            "i =  5\n",
            "{'xmin': 0.10419026047565119, 'xmax': 0.7156775338746858, 'ymin': 0.44741477922672157, 'ymax': 0.46787920384351406}\n",
            "i =  6\n",
            "{'xmin': 0.10419026047565119, 'xmax': 0.8856172140430351, 'ymin': 0.49032258064516127, 'ymax': 0.5185483870967742}\n",
            "i =  7\n",
            "{'xmin': 0.10419026047565119, 'xmax': 0.8890147225368064, 'ymin': 0.5532258064516129, 'ymax': 0.5806451612903226}\n",
            "i =  8\n",
            "{'xmin': 0.10532276330690826, 'xmax': 0.21645587103074793, 'ymin': 0.5960671151200123, 'ymax': 0.6226800183458187}\n",
            "i =  9\n",
            "{'xmin': 0.4803243287729072, 'xmax': 0.8924122310305777, 'ymin': 0.8031264332670845, 'ymax': 0.8260714467716456}\n",
            "i =  11\n",
            "{'xmin': 0.11211778029445074, 'xmax': 0.5718638348728574, 'ymin': 0.8547062120980482, 'ymax': 0.8776181012077663}\n",
            "i =  12\n",
            "{'xmin': 0.11211778029445074, 'xmax': 0.5922989807474519, 'ymin': 0.8935483870967742, 'ymax': 0.9209677419354839}\n",
            "i =  13\n",
            "{'xmin': 0.16123755191776368, 'xmax': 0.26914930603990256, 'ymin': 0.805180089730626, 'ymax': 0.8298910003167674}\n",
            "i =  20\n",
            "%%%%%%%\n",
            "text\n",
            "xmin :  0.1601615074024226 xmax :  0.26783310901749663 ymin :  0.8051323175621492 ymax :  0.8291900561347233\n",
            "updated label =  Math\n",
            "^^^^^^^^\n",
            "{'xmin': 0.7514125486825884, 'xmax': 0.8924877695990129, 'ymin': 0.8526139970291206, 'ymax': 0.8709247075522382}\n",
            "i =  21\n",
            "{'xmin': 0.10419026047565119, 'xmax': 0.48377123442808606, 'ymin': 0.521774193548387, 'ymax': 0.5467741935483871}\n",
            "i =  22\n",
            "{'xmin': 0.502771234428086, 'xmax': 0.6795617214043035, 'ymin': 0.521774193548387, 'ymax': 0.5467741935483871}\n",
            "i =  23\n",
            "{'xmin': 0.6985617214043035, 'xmax': 0.883352208380521, 'ymin': 0.521774193548387, 'ymax': 0.5467741935483871}\n",
            "i =  24\n",
            "GON2/GK2_page-0109.jpg_Text_22&12\n",
            "GON2/GK2_page-0109.jpg_Text_8_1&13\n",
            "GON2/GK2_page-0109.jpg_Text_8_2&14\n",
            "GON2_GK2_page-0344.jpg_Text_3\n",
            "240 246 495 295\n",
            "GON2_GK2_page-0109.jpg_Text_8_2\n",
            "373 650 504 681\n",
            "GON2/GK2_page-0109.jpg_Text_8_3&14\n",
            "GON2/GK2_page-0159.jpg_Text_0&0\n",
            "GON2/GK2_page-0159.jpg_Text_1&1\n",
            "GON2/GK2_page-0159.jpg_Text_2&2\n",
            "GON2/GK2_page-0159.jpg_Text_3&3\n",
            "GON2/GK2_page-0159.jpg_Image_4&4\n",
            "GON2_GK2_page-0399.jpg_Table_16\n",
            "371 599 496 732\n",
            "GON2_GK2_page-0159.jpg_Image_4\n",
            "173 301 324 405\n",
            "here in image to table\n",
            "(133, 125, 3)\n",
            "(104, 151, 3)\n",
            "(104, 151, 3)\n",
            "(133, 125, 3)\n",
            "**********************\n",
            "key_2 =  GON2/GK2_page-0159.jpg_Image_4\n",
            "create_bbx =  GK2_page-0159_2.jpeg   img_for_bb =  GON2/GK2_page-0159.jpg_Image_4\n",
            "here\n",
            "{'xmin': 0.2330035662069282, 'xmax': 0.43741152116853915, 'ymin': 0.24199008126131108, 'ymax': 0.325352762004974}\n",
            "i =  4\n",
            "**************\n",
            "GK2_page-0159_2.jpeg\n",
            "img_for_bb =  GON2/GK2_page-0159.jpg_Image_4   small_img =  GON2/GK2_page-0399.jpg_Table_16\n",
            "xmin :  0.2288021534320323 xmax :  0.4360699865410498 ymin :  0.2413793103448276 ymax :  0.3247794707297514\n",
            "updated label =  Table\n",
            "##############\n",
            "here\n",
            "{'xmin': 0.5782683573821137, 'xmax': 0.7363287626063331, 'ymin': 0.3612915446992317, 'ymax': 0.45449070888485615}\n",
            "i =  5\n",
            "here\n",
            "{'xmin': 0.5668755828981088, 'xmax': 0.7683696039957788, 'ymin': 0.24141771377601426, 'ymax': 0.31683650586212003}\n",
            "i =  17\n",
            "here\n",
            "{'xmin': 0.2686977333533919, 'xmax': 0.467733800802622, 'ymin': 0.35536620488174014, 'ymax': 0.45023601742354563}\n",
            "i =  18\n",
            "GON2/GK2_page-0159.jpg_Image_5&5\n",
            "GON2/GK2_page-0159.jpg_Math_6&6\n",
            "GON2_GK2_page-0109.jpg_Math_17\n",
            "432 1055 528 1107\n",
            "GON2_GK2_page-0159.jpg_Math_6\n",
            "160 666 408 697\n",
            "GON2/GK2_page-0159.jpg_Math_7&6\n",
            "GON2_GK2_page-0257.jpg_Math_25\n",
            "131 182 213 239\n",
            "GON2_GK2_page-0159.jpg_Math_7\n",
            "144 706 366 737\n",
            "GON2/GK2_page-0159.jpg_Math_8&6\n",
            "GON2_GK2_page-0245.jpg_Math_29\n",
            "177 973 300 1033\n",
            "GON2_GK2_page-0159.jpg_Math_8\n",
            "162 749 469 776\n",
            "GON2/GK2_page-0159.jpg_Math_9&6\n",
            "GON2_GK2_page-0213.jpg_Math_21\n",
            "616 399 660 453\n",
            "GON2_GK2_page-0159.jpg_Math_9\n",
            "213 788 508 813\n",
            "GON2/GK2_page-0159.jpg_Math_10&6\n",
            "GON2/GK2_page-0159.jpg_Math_11&7\n",
            "GON2/GK2_page-0159.jpg_Math_12&8\n",
            "GON2_GK2_page-0207.jpg_Math_27\n",
            "461 669 610 725\n",
            "GON2_GK2_page-0159.jpg_Math_12\n",
            "141 981 547 1013\n",
            "GON2/GK2_page-0159.jpg_Text_13&8\n",
            "GON2_GK2_page-0233.jpg_Math_24\n",
            "286 372 338 432\n",
            "GON2_GK2_page-0159.jpg_Text_13\n",
            "192 1021 513 1050\n",
            "GON2/GK2_page-0159.jpg_Text_14&8\n",
            "GON2_GK2_page-0195.jpg_Math_8\n",
            "90 733 658 782\n",
            "GON2_GK2_page-0159.jpg_Text_14\n",
            "142 1059 541 1095\n",
            "GON2/GK2_page-0159.jpg_Text_15&8\n",
            "GON2_GK2_page-0295.jpg_Math_19\n",
            "270 540 446 600\n",
            "GON2_GK2_page-0159.jpg_Text_15\n",
            "142 1096 652 1128\n",
            "GON2/GK2_page-0159.jpg_Text_16&8\n",
            "GON2_GK2_page-0065.jpg_Text_16\n",
            "85 1034 663 1061\n",
            "GON2_GK2_page-0159.jpg_Text_16\n",
            "88 1141 275 1170\n",
            "GON2/GK2_page-0159.jpg_Image_17&8\n",
            "GON2/GK2_page-0159.jpg_Image_18&9\n",
            "GON2_GK2_page-0332.jpg_Table_21\n",
            "282 266 452 419\n",
            "GON2_GK2_page-0159.jpg_Image_18\n",
            "199 443 347 561\n",
            "here in image to table\n",
            "(153, 170, 3)\n",
            "(118, 148, 3)\n",
            "(118, 148, 3)\n",
            "(153, 170, 3)\n",
            "**********************\n",
            "key_2 =  GON2/GK2_page-0159.jpg_Image_18\n",
            "create_bbx =  GK2_page-0159_2.jpeg   img_for_bb =  GON2/GK2_page-0159.jpg_Image_18\n",
            "here\n",
            "{'xmin': 0.5782683573821137, 'xmax': 0.7363287626063331, 'ymin': 0.3612915446992317, 'ymax': 0.45449070888485615}\n",
            "i =  5\n",
            "here\n",
            "{'xmin': 0.5668755828981088, 'xmax': 0.7683696039957788, 'ymin': 0.24141771377601426, 'ymax': 0.31683650586212003}\n",
            "i =  17\n",
            "here\n",
            "{'xmin': 0.2686977333533919, 'xmax': 0.467733800802622, 'ymin': 0.35536620488174014, 'ymax': 0.45023601742354563}\n",
            "i =  18\n",
            "**************\n",
            "GK2_page-0159_2.jpeg\n",
            "img_for_bb =  GON2/GK2_page-0159.jpg_Image_18   small_img =  GON2/GK2_page-0332.jpg_Table_21\n",
            "xmin :  0.26783310901749663 xmax :  0.4670255720053836 ymin :  0.35525260625501204 ymax :  0.4498797113071371\n",
            "updated label =  Table\n",
            "##############\n",
            "GON2/GK2_page-0159.jpg_Math_19&10\n",
            "GON2/GK2_page-0159.jpg_Text_20&11\n",
            "GON2_GK2_page-0384.jpg_Text_16_3\n",
            "531 1020 666 1052\n",
            "GON2_GK2_page-0159.jpg_Text_20\n",
            "137 931 180 954\n"
          ],
          "name": "stdout"
        }
      ]
    },
    {
      "cell_type": "code",
      "metadata": {
        "colab": {
          "base_uri": "https://localhost:8080/"
        },
        "id": "J_8We3YoaA5X",
        "outputId": "ee6823d4-a486-4f33-96a5-878e221a6975"
      },
      "source": [
        "print(number)"
      ],
      "execution_count": 31,
      "outputs": [
        {
          "output_type": "stream",
          "text": [
            "3\n"
          ],
          "name": "stdout"
        }
      ]
    },
    {
      "cell_type": "code",
      "metadata": {
        "id": "DZg-ZecQPVmu"
      },
      "source": [
        "temp_dir = \"checking_layout\"\n",
        "if not os.path.exists(temp_dir):\n",
        "    os.makedirs(temp_dir)"
      ],
      "execution_count": 32,
      "outputs": []
    },
    {
      "cell_type": "code",
      "metadata": {
        "id": "vnUDmDwEPVvU"
      },
      "source": [
        "# The purpose of this function is to check the images generated \n",
        "def create_for_all():\n",
        "\n",
        "  image_path = \"generated_layout/dataset/train\"\n",
        "\n",
        "  for i in bbx_dict['images']:\n",
        "    page_image = cv2.imread(image_path+\"/\"+i)\n",
        "    dh, dw, _ = page_image.shape\n",
        "    for j in range(len(bbx_dict['images'][i]['annotations'])):\n",
        "      #print(bbx_dict['images'][i]['annotations'][j]['bbox'],\" \",\"label = \",bbx_dict['images'][i]['annotations'][j]['label'])  \n",
        "      x1 = int( bbx_dict['images'][i]['annotations'][j]['bbox']['xmin']*dw)\n",
        "      y1 = int( bbx_dict['images'][i]['annotations'][j]['bbox']['ymin']*dh)\n",
        "      x2 = int( bbx_dict['images'][i]['annotations'][j]['bbox']['xmax']*dw)#end_cell[0]+end_cell[3]\n",
        "      y2 = int( bbx_dict['images'][i]['annotations'][j]['bbox']['ymax']*dh)#end_cell[1]+end_cell[2]\n",
        "      cv2.rectangle(page_image, (x1, y1), (x2, y2), (0,0,255), 2)\n",
        "      center = ((x1+x2)//2,(y1+y2)//2)\n",
        "      cv2.putText(page_image,bbx_dict['images'][i]['annotations'][j]['label'], center, cv2.FONT_HERSHEY_SIMPLEX, 2, (255,0,0), 2)\n",
        "      cv2.imwrite(\"checking_layout/\"+i, page_image)\n",
        "    #cv2_imshow(page_image)\n",
        "    #breakkkkkkkk\n",
        "  # print(x,\" : \",l)\n",
        "  #print(x1,y1,x2,y2)jfjd\n",
        "  #bb_coordinates[img_name] = [x1,y1,x2,y2]\n",
        "  #print(end_y)\n",
        "  #table_image = imutils.resize(table_image,width = 2964) #previously it was 2564\n",
        "\n",
        "  #ROI = page_image[y1:y2, x1:x2]    \n",
        "  # draw the bounding box on the image\n",
        "  #cv2.rectangle(page_image, (x1, y1), (x2, y2), (0,0,255), 2)\n",
        "  #cv2.imwrite(img_name_modified+'_extracted.png', ROI)"
      ],
      "execution_count": 33,
      "outputs": []
    },
    {
      "cell_type": "code",
      "metadata": {
        "id": "2NcmGvr3PV48"
      },
      "source": [
        "create_for_all()"
      ],
      "execution_count": 34,
      "outputs": []
    },
    {
      "cell_type": "code",
      "metadata": {
        "id": "9Nuu-5wrPWCs"
      },
      "source": [
        "#!zip -r /content/CHECKING_LAYOUT_FINAL.zip /content/checking_layout"
      ],
      "execution_count": null,
      "outputs": []
    },
    {
      "cell_type": "code",
      "metadata": {
        "colab": {
          "base_uri": "https://localhost:8080/"
        },
        "id": "hcctBqCPPWLd",
        "outputId": "852f0b5f-6382-4106-ef62-4283abdcf4ac"
      },
      "source": [
        "len(bbx_dict['images'])"
      ],
      "execution_count": null,
      "outputs": [
        {
          "output_type": "execute_result",
          "data": {
            "text/plain": [
              "4045"
            ]
          },
          "metadata": {
            "tags": []
          },
          "execution_count": 60
        }
      ]
    },
    {
      "cell_type": "code",
      "metadata": {
        "id": "2HmvX2V3PWUl"
      },
      "source": [
        "#for i in range(len(bbx_dict['images']['GK2_page-0123_801.jpeg']['annotations'])):\n",
        "#  print(bbx_dict['images']['GK2_page-0123_801.jpeg']['annotations'][i]['label'])"
      ],
      "execution_count": null,
      "outputs": []
    },
    {
      "cell_type": "code",
      "metadata": {
        "id": "A3di5pIZcPpY"
      },
      "source": [
        "#!zip -r /content/GEN_LAY_final.zip /content/generated_layout"
      ],
      "execution_count": null,
      "outputs": []
    },
    {
      "cell_type": "code",
      "metadata": {
        "id": "3r2KYNPDjGkT"
      },
      "source": [
        "with open('GENERATED_GEN_LAY_FINAL_corrected_fully.bbx', 'w') as file:\n",
        "     file.write(json.dumps(bbx_dict))\n",
        "  \n",
        "#os.path.join('generated_layout/dataset','generated_LWK.bbx' )"
      ],
      "execution_count": null,
      "outputs": []
    },
    {
      "cell_type": "code",
      "metadata": {
        "id": "LyPmpw9iBNkX"
      },
      "source": [
        ""
      ],
      "execution_count": null,
      "outputs": []
    }
  ]
}